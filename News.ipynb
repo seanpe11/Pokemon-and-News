{
 "metadata": {
  "language_info": {
   "codemirror_mode": {
    "name": "ipython",
    "version": 3
   },
   "file_extension": ".py",
   "mimetype": "text/x-python",
   "name": "python",
   "nbconvert_exporter": "python",
   "pygments_lexer": "ipython3",
   "version": "3.8.5-final"
  },
  "orig_nbformat": 2,
  "kernelspec": {
   "name": "python3",
   "display_name": "Python 3.8.5 64-bit (conda)",
   "metadata": {
    "interpreter": {
     "hash": "1eceec9dcad90e623b324411873607de1657d661c774d46e8701f99bf653fb9d"
    }
   }
  }
 },
 "nbformat": 4,
 "nbformat_minor": 2,
 "cells": [
  {
   "cell_type": "code",
   "execution_count": 10,
   "metadata": {},
   "outputs": [
    {
     "output_type": "execute_result",
     "data": {
      "text/plain": [
       "'On Thursday, CNN political commentator Van Jones praised President Joe Biden’s address on the coronavirus pandemic as a calling to a “deeper patriotism.”\\r\\nJones said, “I just think that he is the guy… [+1594 chars]'"
      ]
     },
     "metadata": {},
     "execution_count": 10
    }
   ],
   "source": [
    "from newsapi import NewsApiClient\n",
    "\n",
    "# Init\n",
    "newsapi = NewsApiClient(api_key='972eab1924314705b92d912d44ea64db')\n",
    "\n",
    "# /v2/everything\n",
    "all_articles = newsapi.get_everything(domains='breitbart.com',\n",
    "                                      from_param='2021-03-11',\n",
    "                                      to='2021-03-12',\n",
    "                                      language='en',\n",
    "                                      sort_by='relevancy',\n",
    "                                      page=2)\n",
    "\n",
    "all_articles['articles'][0]['content']"
   ]
  },
  {
   "cell_type": "code",
   "execution_count": 16,
   "metadata": {},
   "outputs": [
    {
     "output_type": "execute_result",
     "data": {
      "text/plain": [
       "                                                title           publishedAt  \\\n",
       "0   Van Jones: Biden’s ‘Deeper Patriotism’ Is Exac...  2021-03-12T01:54:45Z   \n",
       "1   Psaki: Biden Will Say We Can Be Nearer to Norm...  2021-03-12T00:14:10Z   \n",
       "2   EXCLUSIVE: DHS Claims of Vaccinating Border Pa...  2021-03-11T15:31:19Z   \n",
       "3   Chuck Schumer Warns Joe Biden on Border Policy...  2021-03-11T23:14:18Z   \n",
       "4   Bokhari: Congress Wants to Give the Establishm...  2021-03-12T01:34:44Z   \n",
       "5   Exclusive: Virginia Governor Candidate Vows in...  2021-03-11T16:35:48Z   \n",
       "6   As Corona Cases Rise, Germany Warns Citizens t...  2021-03-12T12:29:13Z   \n",
       "7   10 House Republicans Declare Support for Amnes...  2021-03-12T15:09:23Z   \n",
       "8            EU Admits UK Did Not Ban Vaccine Exports  2021-03-11T18:24:21Z   \n",
       "9   House Passes Democrat Bill Criminalizing Priva...  2021-03-11T16:07:34Z   \n",
       "10  91-Year-Old Police Officer: I’ll Retire When t...  2021-03-11T18:48:03Z   \n",
       "11  Nancy Pelosi: $1.9 Trillion Coronavirus Bill ‘...  2021-03-11T19:07:45Z   \n",
       "12  New York Times Op-ed: ‘The Coronavirus Made th...  2021-03-11T17:36:24Z   \n",
       "13  EXCLUSIVE: Biden DHS Performs Another Covert T...  2021-03-12T17:05:24Z   \n",
       "14  Exclusive: Judiciary Committee’s Jim Jordan De...  2021-03-12T01:11:26Z   \n",
       "15  Nancy Pelosi Open to Overturning Republican Wi...  2021-03-12T14:07:52Z   \n",
       "16  Dem Assemblyman: Cuomo Will Interfere in Inves...  2021-03-12T07:42:06Z   \n",
       "17  Buttigieg Floats Pegging Gas Tax to Inflation ...  2021-03-12T14:39:38Z   \n",
       "18  Kevin Brady: Joe Biden an ‘Absolute Fraud’ on ...  2021-03-12T14:06:11Z   \n",
       "19  GOP Rep. Waltz: COVID Bill 'Largest Expansion ...  2021-03-11T00:51:31Z   \n",
       "\n",
       "                          author  \\\n",
       "0                        Pam Key   \n",
       "1                   Ian Hanchett   \n",
       "2                      Bob Price   \n",
       "3                     Neil Munro   \n",
       "4                  Allum Bokhari   \n",
       "5                  Ashley Oliver   \n",
       "6               Breitbart London   \n",
       "7                     Neil Munro   \n",
       "8              Victoria Friedman   \n",
       "9                    AWR Hawkins   \n",
       "10           Katherine Rodriguez   \n",
       "11                  Hannah Bleau   \n",
       "12                Joel B. Pollak   \n",
       "13                   Randy Clark   \n",
       "14                 Ashley Oliver   \n",
       "15                Joel B. Pollak   \n",
       "16                  Ian Hanchett   \n",
       "17                   Trent Baker   \n",
       "18                Joel B. Pollak   \n",
       "19  Ian Hanchett, \\nIan Hanchett   \n",
       "\n",
       "                                              content  \n",
       "0   On Thursday, CNN political commentator Van Jon...  \n",
       "1   On Thursday’s broadcast of MSNBC’s “The Beat,”...  \n",
       "2   National Border Patrol Council President Brand...  \n",
       "3   Sen. Chuck Schumer (D-NY) is warning President...  \n",
       "4   If there is one force in society worse than Bi...  \n",
       "5   Virginia Republican Pete Snyder is launching a...  \n",
       "6   AP, BERLIN – Germany´s health minister says th...  \n",
       "7   Ten GOP representatives joined the Democrat fa...  \n",
       "8   The EU was forced to admit that the United Kin...  \n",
       "9   The U.S. House of Representatives passed unive...  \n",
       "10  A 91-year-old police officer in Arkansas, the ...  \n",
       "11  House Speaker Nancy Pelosi (D-CA) said the $1....  \n",
       "12  The New York Times has published an op-ed that...  \n",
       "13  Law enforcement sources report another high-le...  \n",
       "14  House Judiciary Committee ranking member Rep. ...  \n",
       "15  Speaker of the House Nancy Pelosi (D-CA) said ...  \n",
       "16  On Thursday’s broadcast of the Fox Business Ne...  \n",
       "17  Friday, Transportation Secretary Pete Buttigie...  \n",
       "18  Rep. Kevin Brady (R-TX), the ranking Republica...  \n",
       "19  On Wednesday’s broadcast of the Fox Business N...  "
      ],
      "text/html": "<div>\n<style scoped>\n    .dataframe tbody tr th:only-of-type {\n        vertical-align: middle;\n    }\n\n    .dataframe tbody tr th {\n        vertical-align: top;\n    }\n\n    .dataframe thead th {\n        text-align: right;\n    }\n</style>\n<table border=\"1\" class=\"dataframe\">\n  <thead>\n    <tr style=\"text-align: right;\">\n      <th></th>\n      <th>title</th>\n      <th>publishedAt</th>\n      <th>author</th>\n      <th>content</th>\n    </tr>\n  </thead>\n  <tbody>\n    <tr>\n      <th>0</th>\n      <td>Van Jones: Biden’s ‘Deeper Patriotism’ Is Exac...</td>\n      <td>2021-03-12T01:54:45Z</td>\n      <td>Pam Key</td>\n      <td>On Thursday, CNN political commentator Van Jon...</td>\n    </tr>\n    <tr>\n      <th>1</th>\n      <td>Psaki: Biden Will Say We Can Be Nearer to Norm...</td>\n      <td>2021-03-12T00:14:10Z</td>\n      <td>Ian Hanchett</td>\n      <td>On Thursday’s broadcast of MSNBC’s “The Beat,”...</td>\n    </tr>\n    <tr>\n      <th>2</th>\n      <td>EXCLUSIVE: DHS Claims of Vaccinating Border Pa...</td>\n      <td>2021-03-11T15:31:19Z</td>\n      <td>Bob Price</td>\n      <td>National Border Patrol Council President Brand...</td>\n    </tr>\n    <tr>\n      <th>3</th>\n      <td>Chuck Schumer Warns Joe Biden on Border Policy...</td>\n      <td>2021-03-11T23:14:18Z</td>\n      <td>Neil Munro</td>\n      <td>Sen. Chuck Schumer (D-NY) is warning President...</td>\n    </tr>\n    <tr>\n      <th>4</th>\n      <td>Bokhari: Congress Wants to Give the Establishm...</td>\n      <td>2021-03-12T01:34:44Z</td>\n      <td>Allum Bokhari</td>\n      <td>If there is one force in society worse than Bi...</td>\n    </tr>\n    <tr>\n      <th>5</th>\n      <td>Exclusive: Virginia Governor Candidate Vows in...</td>\n      <td>2021-03-11T16:35:48Z</td>\n      <td>Ashley Oliver</td>\n      <td>Virginia Republican Pete Snyder is launching a...</td>\n    </tr>\n    <tr>\n      <th>6</th>\n      <td>As Corona Cases Rise, Germany Warns Citizens t...</td>\n      <td>2021-03-12T12:29:13Z</td>\n      <td>Breitbart London</td>\n      <td>AP, BERLIN – Germany´s health minister says th...</td>\n    </tr>\n    <tr>\n      <th>7</th>\n      <td>10 House Republicans Declare Support for Amnes...</td>\n      <td>2021-03-12T15:09:23Z</td>\n      <td>Neil Munro</td>\n      <td>Ten GOP representatives joined the Democrat fa...</td>\n    </tr>\n    <tr>\n      <th>8</th>\n      <td>EU Admits UK Did Not Ban Vaccine Exports</td>\n      <td>2021-03-11T18:24:21Z</td>\n      <td>Victoria Friedman</td>\n      <td>The EU was forced to admit that the United Kin...</td>\n    </tr>\n    <tr>\n      <th>9</th>\n      <td>House Passes Democrat Bill Criminalizing Priva...</td>\n      <td>2021-03-11T16:07:34Z</td>\n      <td>AWR Hawkins</td>\n      <td>The U.S. House of Representatives passed unive...</td>\n    </tr>\n    <tr>\n      <th>10</th>\n      <td>91-Year-Old Police Officer: I’ll Retire When t...</td>\n      <td>2021-03-11T18:48:03Z</td>\n      <td>Katherine Rodriguez</td>\n      <td>A 91-year-old police officer in Arkansas, the ...</td>\n    </tr>\n    <tr>\n      <th>11</th>\n      <td>Nancy Pelosi: $1.9 Trillion Coronavirus Bill ‘...</td>\n      <td>2021-03-11T19:07:45Z</td>\n      <td>Hannah Bleau</td>\n      <td>House Speaker Nancy Pelosi (D-CA) said the $1....</td>\n    </tr>\n    <tr>\n      <th>12</th>\n      <td>New York Times Op-ed: ‘The Coronavirus Made th...</td>\n      <td>2021-03-11T17:36:24Z</td>\n      <td>Joel B. Pollak</td>\n      <td>The New York Times has published an op-ed that...</td>\n    </tr>\n    <tr>\n      <th>13</th>\n      <td>EXCLUSIVE: Biden DHS Performs Another Covert T...</td>\n      <td>2021-03-12T17:05:24Z</td>\n      <td>Randy Clark</td>\n      <td>Law enforcement sources report another high-le...</td>\n    </tr>\n    <tr>\n      <th>14</th>\n      <td>Exclusive: Judiciary Committee’s Jim Jordan De...</td>\n      <td>2021-03-12T01:11:26Z</td>\n      <td>Ashley Oliver</td>\n      <td>House Judiciary Committee ranking member Rep. ...</td>\n    </tr>\n    <tr>\n      <th>15</th>\n      <td>Nancy Pelosi Open to Overturning Republican Wi...</td>\n      <td>2021-03-12T14:07:52Z</td>\n      <td>Joel B. Pollak</td>\n      <td>Speaker of the House Nancy Pelosi (D-CA) said ...</td>\n    </tr>\n    <tr>\n      <th>16</th>\n      <td>Dem Assemblyman: Cuomo Will Interfere in Inves...</td>\n      <td>2021-03-12T07:42:06Z</td>\n      <td>Ian Hanchett</td>\n      <td>On Thursday’s broadcast of the Fox Business Ne...</td>\n    </tr>\n    <tr>\n      <th>17</th>\n      <td>Buttigieg Floats Pegging Gas Tax to Inflation ...</td>\n      <td>2021-03-12T14:39:38Z</td>\n      <td>Trent Baker</td>\n      <td>Friday, Transportation Secretary Pete Buttigie...</td>\n    </tr>\n    <tr>\n      <th>18</th>\n      <td>Kevin Brady: Joe Biden an ‘Absolute Fraud’ on ...</td>\n      <td>2021-03-12T14:06:11Z</td>\n      <td>Joel B. Pollak</td>\n      <td>Rep. Kevin Brady (R-TX), the ranking Republica...</td>\n    </tr>\n    <tr>\n      <th>19</th>\n      <td>GOP Rep. Waltz: COVID Bill 'Largest Expansion ...</td>\n      <td>2021-03-11T00:51:31Z</td>\n      <td>Ian Hanchett, \\nIan Hanchett</td>\n      <td>On Wednesday’s broadcast of the Fox Business N...</td>\n    </tr>\n  </tbody>\n</table>\n</div>"
     },
     "metadata": {},
     "execution_count": 16
    }
   ],
   "source": [
    "import pandas as pd\n",
    "\n",
    "articles_df = pd.DataFrame(all_articles['articles'])\n",
    "articles_df[['title', 'publishedAt', 'author','content']]"
   ]
  }
 ]
}